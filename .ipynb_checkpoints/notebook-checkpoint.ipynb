{
 "cells": [
  {
   "cell_type": "code",
   "execution_count": 1,
   "metadata": {},
   "outputs": [],
   "source": [
    "chrome_user_data_dir = (\n",
    "    \"C:\\\\Users\\\\<Windows user name>\\\\AppData\\\\Local\\\\Google\\\\Chrome\\\\User Data\"\n",
    ")\n",
    "username = \"banar_test\"\n",
    "message_frequency_milliseconds = 3000\n",
    "find_element_timeout_milliseconds = 15000\n",
    "data_file_path = \"products.xlsx\""
   ]
  },
  {
   "cell_type": "code",
   "execution_count": 2,
   "metadata": {},
   "outputs": [],
   "source": [
    "import re\n",
    "import pandas as pd\n",
    "from playwright.async_api import async_playwright, expect, Page\n",
    "import random"
   ]
  },
  {
   "cell_type": "code",
   "execution_count": 3,
   "metadata": {},
   "outputs": [],
   "source": [
    "def get_data_from_xlsx(file_path):\n",
    "    df = pd.read_excel(file_path, usecols=[\"Link\", \"Message\"])\n",
    "    return df\n",
    "\n",
    "\n",
    "data = get_data_from_xlsx(data_file_path)"
   ]
  },
  {
   "cell_type": "code",
   "execution_count": 4,
   "metadata": {},
   "outputs": [],
   "source": [
    "processed_links = set()\n",
    "try:\n",
    "    with open(\"processed_links.txt\", \"r\") as f:\n",
    "        processed_links.update(line.strip() for line in f)\n",
    "except FileNotFoundError:\n",
    "    pass"
   ]
  },
  {
   "cell_type": "code",
   "execution_count": 5,
   "metadata": {},
   "outputs": [],
   "source": [
    "async def process_row(page: Page, row):\n",
    "    link = row[\"Link\"]\n",
    "    message = row[\"Message\"]\n",
    "\n",
    "    if link in processed_links:\n",
    "        print(\"Link already processed:\", link)\n",
    "        return\n",
    "\n",
    "    await page.wait_for_timeout(random.randint(1000, 3000))\n",
    "\n",
    "    await page.goto(link, wait_until=\"domcontentloaded\")\n",
    "\n",
    "    async with page.expect_popup() as shop_page_info:\n",
    "        await page.locator(\"#shopNavigation\").get_by_text(\"客服\").first.click()\n",
    "    shop_page = await shop_page_info.value\n",
    "\n",
    "    iframe = shop_page.locator(\"#ice-container iframe\").content_frame\n",
    "\n",
    "    chat_target = iframe.locator(\"div.conversation-list div.conversation-item.active\")\n",
    "    await expect(chat_target).to_be_visible(timeout=find_element_timeout_milliseconds)\n",
    "\n",
    "    input_area = (\n",
    "        iframe.locator(\"div\")\n",
    "        .filter(\n",
    "            has_text=re.compile(\n",
    "                r\"^截图快捷短语0 / 500请输入消息，按Enter键 或 点击发送按钮发送$\"\n",
    "            )\n",
    "        )\n",
    "        .locator(\"pre\")\n",
    "    )\n",
    "    await input_area.click()\n",
    "    await input_area.type(message)\n",
    "\n",
    "    await (\n",
    "        iframe.locator(\"div\")\n",
    "        .filter(has_text=re.compile(rf\"^{re.escape(message)}$\"))\n",
    "        .locator(\"pre\")\n",
    "        .press(\"Enter\")\n",
    "    )\n",
    "\n",
    "    await shop_page.wait_for_timeout(1000)\n",
    "\n",
    "    await shop_page.close()\n",
    "\n",
    "    processed_links.add(link)\n",
    "\n",
    "    print(\"Processed link:\", link)\n",
    "\n",
    "    await page.wait_for_timeout(\n",
    "        message_frequency_milliseconds + random.randint(-1000, 1000)\n",
    "    )"
   ]
  },
  {
   "cell_type": "code",
   "execution_count": 6,
   "metadata": {},
   "outputs": [],
   "source": [
    "async def run():\n",
    "    async with async_playwright() as p:\n",
    "        browser = await p.chromium.launch_persistent_context(\n",
    "            channel=\"chrome\",\n",
    "            user_data_dir=chrome_user_data_dir,\n",
    "            headless=False,\n",
    "            args=[\"--start-maximized\", \"--new-window\", \"--disable-extensions\"],\n",
    "            no_viewport=True,\n",
    "        )\n",
    "\n",
    "        page = await browser.new_page()\n",
    "\n",
    "        await page.goto(\"https://1688.com\", wait_until=\"domcontentloaded\")\n",
    "        await expect(\n",
    "            page.get_by_text(username).first, \"User not logged in\"\n",
    "        ).to_be_visible(timeout=find_element_timeout_milliseconds)\n",
    "\n",
    "        print(\"User logged in\")\n",
    "\n",
    "        for _, row in data.iterrows():\n",
    "            await process_row(page, row)\n",
    "\n",
    "        await page.close()\n",
    "\n",
    "        await browser.close()"
   ]
  },
  {
   "cell_type": "code",
   "execution_count": 7,
   "metadata": {},
   "outputs": [],
   "source": [
    "async def main():\n",
    "    try:\n",
    "        await run()\n",
    "    except Exception as e:\n",
    "        print(e)\n",
    "    finally:\n",
    "        with open(\"processed_links.txt\", \"w\") as f:\n",
    "            f.write(\"\\n\".join(processed_links))"
   ]
  },
  {
   "cell_type": "code",
   "execution_count": 9,
   "metadata": {},
   "outputs": [
    {
     "name": "stdout",
     "output_type": "stream",
     "text": [
      "\n"
     ]
    }
   ],
   "source": [
    "await main()"
   ]
  }
 ],
 "metadata": {
  "kernelspec": {
   "display_name": "Python 3 (ipykernel)",
   "language": "python",
   "name": "python3"
  },
  "language_info": {
   "codemirror_mode": {
    "name": "ipython",
    "version": 3
   },
   "file_extension": ".py",
   "mimetype": "text/x-python",
   "name": "python",
   "nbconvert_exporter": "python",
   "pygments_lexer": "ipython3",
   "version": "3.13.0"
  }
 },
 "nbformat": 4,
 "nbformat_minor": 2
}
